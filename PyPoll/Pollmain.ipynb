{
 "cells": [
  {
   "cell_type": "code",
   "execution_count": 72,
   "id": "37007a37",
   "metadata": {},
   "outputs": [],
   "source": [
    "import pandas as pd\n",
    "\n",
    "df = pd.read_csv(\"Resources/election_data.csv\")\n",
    "\n",
    "df.head()\n",
    "\n",
    "df_total = len(df[\"Voter ID\"])\n",
    "\n",
    "print(\"Total Votes:\" + \" \" + str(df))\n",
    "\n",
    "df\n",
    "\n",
    "df_grouped = df.groupby(\"Candidate\")\n",
    "\n",
    "dfd= df_grouped[\"Candidate\"].tolist()\n",
    "\n",
    "df_grouped\n",
    "\n",
    "Candidate_list\n",
    "\n"
   ]
  }
 ],
 "metadata": {
  "kernelspec": {
   "display_name": "Python 3",
   "language": "python",
   "name": "python3"
  },
  "language_info": {
   "codemirror_mode": {
    "name": "ipython",
    "version": 3
   },
   "file_extension": ".py",
   "mimetype": "text/x-python",
   "name": "python",
   "nbconvert_exporter": "python",
   "pygments_lexer": "ipython3",
   "version": "3.6.10"
  }
 },
 "nbformat": 4,
 "nbformat_minor": 5
}
