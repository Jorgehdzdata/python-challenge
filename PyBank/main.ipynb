{
 "cells": [
  {
   "cell_type": "code",
   "execution_count": 75,
   "id": "2ca2ff42",
   "metadata": {},
   "outputs": [
    {
     "ename": "SyntaxError",
     "evalue": "invalid syntax (<ipython-input-75-7681fb97b1b8>, line 5)",
     "output_type": "error",
     "traceback": [
      "\u001b[1;36m  File \u001b[1;32m\"<ipython-input-75-7681fb97b1b8>\"\u001b[1;36m, line \u001b[1;32m5\u001b[0m\n\u001b[1;33m    with open(\"analysis/Financial_Analysis.txt\", \"a\") as f\u001b[0m\n\u001b[1;37m                                                          ^\u001b[0m\n\u001b[1;31mSyntaxError\u001b[0m\u001b[1;31m:\u001b[0m invalid syntax\n"
     ]
    }
   ],
   "source": [
    "import pandas as pd\n",
    "import numpy as np\n",
    "\n",
    "df = pd.read_csv('Resources/budget_data.csv')"
   ]
  },
  {
   "cell_type": "code",
   "execution_count": 76,
   "id": "2e0db3e2",
   "metadata": {},
   "outputs": [
    {
     "name": "stdout",
     "output_type": "stream",
     "text": [
      "Total Months: 86\n",
      "Total: $38382578\n",
      "Greatest Increase in Profits: Feb-2012 ($1926159.0)\n",
      "Greatest Decrease in Profits: Sep-2013 ($-2196167.0)\n"
     ]
    }
   ],
   "source": [
    "#print(df)\n",
    "\n",
    "#df\n",
    "\n",
    "TM = len(df.index)\n",
    "\n",
    "print(f\"Total Months:\" + \" \" + str(TM), file=open(\"analysis/Financial_Analysis.txt\", \"a\"))\n",
    "\n",
    "#Total_Months\n",
    "\n",
    "Total_amount = df[\"Profit/Losses\"].sum()\n",
    "\n",
    "print(f\"Total:\" + \" $\" + str(Total_amount), file=open(\"analysis/Financial_Analysis.txt\", \"a\"))\n",
    "\n",
    "dfd = df[\"Profit/Losses\"].diff()\n",
    "\n",
    "AC = dfd.mean().round(2)\n",
    "print(f\"Average Change:\" + \" $\" + str(AC), file=open(\"analysis/Financial_Analysis.txt\", \"a\"))\n",
    "\n",
    "#df['Date'] = pd.to_datetime(df['Date'])  \n",
    "\n",
    "df['Profit/Losses'].diff().idxmax()\n",
    "\n",
    "GM = df[\"Date\"].iloc[25]\n",
    "\n",
    "GI = df['Profit/Losses'].diff().max()\n",
    "print(f\"Greatest Increase in Profits: \" + GM + \" (\" + \"$\" + str(GI) + \")\", file=open(\"analysis/Financial_Analysis.txt\", \"a\") )\n",
    "\n",
    "df['Profit/Losses'].diff().idxmin()\n",
    "\n",
    "DM = df[\"Date\"].iloc[44]\n",
    "\n",
    "GD = df['Profit/Losses'].diff().min()\n",
    "print(f\"Greatest Decrease in Profits: \" + DM + \" (\" + \"$\" + str(GD) + \")\", file=open(\"analysis/Financial_Analysis.txt\", \"a\"))"
   ]
  },
  {
   "cell_type": "code",
   "execution_count": null,
   "id": "b7d2e9a4",
   "metadata": {},
   "outputs": [],
   "source": []
  }
 ],
 "metadata": {
  "kernelspec": {
   "display_name": "Python 3",
   "language": "python",
   "name": "python3"
  },
  "language_info": {
   "codemirror_mode": {
    "name": "ipython",
    "version": 3
   },
   "file_extension": ".py",
   "mimetype": "text/x-python",
   "name": "python",
   "nbconvert_exporter": "python",
   "pygments_lexer": "ipython3",
   "version": "3.6.10"
  }
 },
 "nbformat": 4,
 "nbformat_minor": 5
}
